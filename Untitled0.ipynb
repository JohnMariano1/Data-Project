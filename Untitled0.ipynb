{
  "nbformat": 4,
  "nbformat_minor": 0,
  "metadata": {
    "colab": {
      "provenance": []
    },
    "kernelspec": {
      "name": "python3",
      "display_name": "Python 3"
    },
    "language_info": {
      "name": "python"
    }
  },
  "cells": [
    {
      "cell_type": "markdown",
      "source": [
        "1) name one purpose for github\n",
        "\n",
        "The purpose of GitHub is to provide a platform for version control and collaborative software development. It allows you to track changes in code, collaborate with others, and manage projects efficiently. GitHub is a central hub for collaborative work in programming projects.\n",
        "\n",
        "\n",
        "2) describe what is version control in your own words and how it could help you in your project;\n",
        "\n",
        "Version control is a system for tracking changes to a project's code or files over time. It allows you to manage and coordinate changes made by multiple contributors to a project. With version control, every modification made to the project is recorded, and you can revert to previous versions if needed. This helps in maintaining a clear history of changes, improving collaboration, and reducing the risk of errors in the development process.\n",
        "\n",
        "3) explain how in a group project (which we are not doing) github could help manage collaboration.\n",
        "\n",
        "GitHub is a platform that can be accessed by anyone from anywhere with internet, so it allows groups to be able to edit and work on project at different times and in different places. The version control allows for everyone to be able to track changes that other group members have made, which is important for understanding the flow of a project."
      ],
      "metadata": {
        "id": "PUG6hcFSjntq"
      }
    }
  ]
}